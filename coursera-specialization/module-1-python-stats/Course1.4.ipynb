{
 "cells": [
  {
   "cell_type": "code",
   "execution_count": 143,
   "id": "24439a2e-19a1-4de1-9bd1-5a00efa056f6",
   "metadata": {},
   "outputs": [],
   "source": [
    "import pandas as pd\n",
    "import numpy as np\n",
    "import matplotlib.pyplot as plt\n",
    "import seaborn as sns\n",
    "import plotly.express as px"
   ]
  },
  {
   "cell_type": "code",
   "execution_count": 659,
   "id": "093244c3-df39-46f5-b168-3ff4736c7e6d",
   "metadata": {},
   "outputs": [],
   "source": [
    "data_booking=pd.read_csv(\"Bookings.csv\")\n",
    "data_session=pd.read_csv(\"Sessions.csv\")\n"
   ]
  },
  {
   "cell_type": "code",
   "execution_count": 661,
   "id": "ab42d392-db08-4d0f-99ed-64b6a5fb3176",
   "metadata": {},
   "outputs": [
    {
     "data": {
      "text/html": [
       "<div>\n",
       "<style scoped>\n",
       "    .dataframe tbody tr th:only-of-type {\n",
       "        vertical-align: middle;\n",
       "    }\n",
       "\n",
       "    .dataframe tbody tr th {\n",
       "        vertical-align: top;\n",
       "    }\n",
       "\n",
       "    .dataframe thead th {\n",
       "        text-align: right;\n",
       "    }\n",
       "</style>\n",
       "<table border=\"1\" class=\"dataframe\">\n",
       "  <thead>\n",
       "    <tr style=\"text-align: right;\">\n",
       "      <th></th>\n",
       "      <th>customer_id</th>\n",
       "      <th>booking_id</th>\n",
       "      <th>from_city</th>\n",
       "      <th>from_country</th>\n",
       "      <th>to_city</th>\n",
       "      <th>to_country</th>\n",
       "      <th>booking_time</th>\n",
       "      <th>device_type_used</th>\n",
       "      <th>INR_Amount</th>\n",
       "      <th>service_name</th>\n",
       "      <th>no_of_passengers</th>\n",
       "      <th>days_to_departure</th>\n",
       "      <th>distance_km</th>\n",
       "    </tr>\n",
       "  </thead>\n",
       "  <tbody>\n",
       "    <tr>\n",
       "      <th>0</th>\n",
       "      <td>customer_259</td>\n",
       "      <td>booking_82</td>\n",
       "      <td>Gurgaon</td>\n",
       "      <td>India</td>\n",
       "      <td>Ahmedabad</td>\n",
       "      <td>India</td>\n",
       "      <td>2020-02-05T16:12:08Z</td>\n",
       "      <td>Desktop</td>\n",
       "      <td>2565.28</td>\n",
       "      <td>MMT</td>\n",
       "      <td>1.0</td>\n",
       "      <td>10.0</td>\n",
       "      <td>747.8</td>\n",
       "    </tr>\n",
       "    <tr>\n",
       "      <th>1</th>\n",
       "      <td>customer_303</td>\n",
       "      <td>booking_156</td>\n",
       "      <td>Delhi</td>\n",
       "      <td>India</td>\n",
       "      <td>Brussels</td>\n",
       "      <td>Belgium</td>\n",
       "      <td>2018-11-21T08:21:47Z</td>\n",
       "      <td>Android</td>\n",
       "      <td>23120.00</td>\n",
       "      <td>YATRA</td>\n",
       "      <td>1.0</td>\n",
       "      <td>1.0</td>\n",
       "      <td>6701.5</td>\n",
       "    </tr>\n",
       "    <tr>\n",
       "      <th>2</th>\n",
       "      <td>customer_203</td>\n",
       "      <td>booking_99</td>\n",
       "      <td>Devanhalli</td>\n",
       "      <td>India</td>\n",
       "      <td>Frankfurt am Main</td>\n",
       "      <td>Germany</td>\n",
       "      <td>2019-12-16T22:54:58Z</td>\n",
       "      <td>Android</td>\n",
       "      <td>25717.60</td>\n",
       "      <td>YATRA</td>\n",
       "      <td>1.0</td>\n",
       "      <td>32.0</td>\n",
       "      <td>7712.0</td>\n",
       "    </tr>\n",
       "    <tr>\n",
       "      <th>3</th>\n",
       "      <td>customer_211</td>\n",
       "      <td>booking_319</td>\n",
       "      <td>Gurgaon</td>\n",
       "      <td>India</td>\n",
       "      <td>Frankfurt am Main</td>\n",
       "      <td>Germany</td>\n",
       "      <td>2021-10-29T12:25:38Z</td>\n",
       "      <td>Desktop</td>\n",
       "      <td>135969.60</td>\n",
       "      <td>GOIBIBO</td>\n",
       "      <td>2.0</td>\n",
       "      <td>69.0</td>\n",
       "      <td>6112.5</td>\n",
       "    </tr>\n",
       "    <tr>\n",
       "      <th>4</th>\n",
       "      <td>customer_287</td>\n",
       "      <td>booking_222</td>\n",
       "      <td>Gurgaon</td>\n",
       "      <td>India</td>\n",
       "      <td>Roissy-en-France</td>\n",
       "      <td>France</td>\n",
       "      <td>2020-08-11T16:09:10Z</td>\n",
       "      <td>Android</td>\n",
       "      <td>31791.20</td>\n",
       "      <td>GOIBIBO</td>\n",
       "      <td>1.0</td>\n",
       "      <td>3.0</td>\n",
       "      <td>6570.4</td>\n",
       "    </tr>\n",
       "    <tr>\n",
       "      <th>...</th>\n",
       "      <td>...</td>\n",
       "      <td>...</td>\n",
       "      <td>...</td>\n",
       "      <td>...</td>\n",
       "      <td>...</td>\n",
       "      <td>...</td>\n",
       "      <td>...</td>\n",
       "      <td>...</td>\n",
       "      <td>...</td>\n",
       "      <td>...</td>\n",
       "      <td>...</td>\n",
       "      <td>...</td>\n",
       "      <td>...</td>\n",
       "    </tr>\n",
       "    <tr>\n",
       "      <th>334</th>\n",
       "      <td>customer_133</td>\n",
       "      <td>booking_238</td>\n",
       "      <td>Gurgaon</td>\n",
       "      <td>India</td>\n",
       "      <td>Rāja Sānsi</td>\n",
       "      <td>India</td>\n",
       "      <td>2020-02-14T14:20:20Z</td>\n",
       "      <td>IOS</td>\n",
       "      <td>2721.60</td>\n",
       "      <td>YATRA</td>\n",
       "      <td>1.0</td>\n",
       "      <td>26.0</td>\n",
       "      <td>421.0</td>\n",
       "    </tr>\n",
       "    <tr>\n",
       "      <th>335</th>\n",
       "      <td>customer_235</td>\n",
       "      <td>booking_37</td>\n",
       "      <td>Gurgaon</td>\n",
       "      <td>India</td>\n",
       "      <td>Bhubaneswar</td>\n",
       "      <td>India</td>\n",
       "      <td>2020-03-21T06:40:56Z</td>\n",
       "      <td>Android</td>\n",
       "      <td>6552.00</td>\n",
       "      <td>GOIBIBO</td>\n",
       "      <td>1.0</td>\n",
       "      <td>0.0</td>\n",
       "      <td>1274.7</td>\n",
       "    </tr>\n",
       "    <tr>\n",
       "      <th>336</th>\n",
       "      <td>customer_62</td>\n",
       "      <td>booking_239</td>\n",
       "      <td>Gurgaon</td>\n",
       "      <td>India</td>\n",
       "      <td>Birmingham</td>\n",
       "      <td>United Kingdom</td>\n",
       "      <td>2020-01-31T20:35:35Z</td>\n",
       "      <td>Desktop</td>\n",
       "      <td>126502.46</td>\n",
       "      <td>GOIBIBO</td>\n",
       "      <td>2.0</td>\n",
       "      <td>109.0</td>\n",
       "      <td>7190.9</td>\n",
       "    </tr>\n",
       "    <tr>\n",
       "      <th>337</th>\n",
       "      <td>customer_5</td>\n",
       "      <td>booking_131</td>\n",
       "      <td>Mumbai</td>\n",
       "      <td>India</td>\n",
       "      <td>Kloten</td>\n",
       "      <td>Switzerland</td>\n",
       "      <td>2018-10-11T14:31:28Z</td>\n",
       "      <td>Desktop</td>\n",
       "      <td>55152.80</td>\n",
       "      <td>YATRA</td>\n",
       "      <td>2.0</td>\n",
       "      <td>22.0</td>\n",
       "      <td>6760.0</td>\n",
       "    </tr>\n",
       "    <tr>\n",
       "      <th>338</th>\n",
       "      <td>customer_241</td>\n",
       "      <td>booking_336</td>\n",
       "      <td>Gurgaon</td>\n",
       "      <td>India</td>\n",
       "      <td>Amsterdam</td>\n",
       "      <td>Netherlands</td>\n",
       "      <td>2022-07-11T18:46:59Z</td>\n",
       "      <td>Desktop</td>\n",
       "      <td>41117.60</td>\n",
       "      <td>GOIBIBO</td>\n",
       "      <td>1.0</td>\n",
       "      <td>20.0</td>\n",
       "      <td>6354.9</td>\n",
       "    </tr>\n",
       "  </tbody>\n",
       "</table>\n",
       "<p>339 rows × 13 columns</p>\n",
       "</div>"
      ],
      "text/plain": [
       "      customer_id   booking_id   from_city from_country            to_city  \\\n",
       "0    customer_259   booking_82     Gurgaon        India          Ahmedabad   \n",
       "1    customer_303  booking_156       Delhi        India           Brussels   \n",
       "2    customer_203   booking_99  Devanhalli        India  Frankfurt am Main   \n",
       "3    customer_211  booking_319     Gurgaon        India  Frankfurt am Main   \n",
       "4    customer_287  booking_222     Gurgaon        India   Roissy-en-France   \n",
       "..            ...          ...         ...          ...                ...   \n",
       "334  customer_133  booking_238     Gurgaon        India         Rāja Sānsi   \n",
       "335  customer_235   booking_37     Gurgaon        India        Bhubaneswar   \n",
       "336   customer_62  booking_239     Gurgaon        India         Birmingham   \n",
       "337    customer_5  booking_131      Mumbai        India             Kloten   \n",
       "338  customer_241  booking_336     Gurgaon        India          Amsterdam   \n",
       "\n",
       "         to_country          booking_time device_type_used  INR_Amount  \\\n",
       "0             India  2020-02-05T16:12:08Z          Desktop     2565.28   \n",
       "1           Belgium  2018-11-21T08:21:47Z          Android    23120.00   \n",
       "2           Germany  2019-12-16T22:54:58Z          Android    25717.60   \n",
       "3           Germany  2021-10-29T12:25:38Z          Desktop   135969.60   \n",
       "4            France  2020-08-11T16:09:10Z          Android    31791.20   \n",
       "..              ...                   ...              ...         ...   \n",
       "334           India  2020-02-14T14:20:20Z              IOS     2721.60   \n",
       "335           India  2020-03-21T06:40:56Z          Android     6552.00   \n",
       "336  United Kingdom  2020-01-31T20:35:35Z          Desktop   126502.46   \n",
       "337     Switzerland  2018-10-11T14:31:28Z          Desktop    55152.80   \n",
       "338     Netherlands  2022-07-11T18:46:59Z          Desktop    41117.60   \n",
       "\n",
       "    service_name  no_of_passengers  days_to_departure  distance_km  \n",
       "0            MMT               1.0               10.0        747.8  \n",
       "1          YATRA               1.0                1.0       6701.5  \n",
       "2          YATRA               1.0               32.0       7712.0  \n",
       "3        GOIBIBO               2.0               69.0       6112.5  \n",
       "4        GOIBIBO               1.0                3.0       6570.4  \n",
       "..           ...               ...                ...          ...  \n",
       "334        YATRA               1.0               26.0        421.0  \n",
       "335      GOIBIBO               1.0                0.0       1274.7  \n",
       "336      GOIBIBO               2.0              109.0       7190.9  \n",
       "337        YATRA               2.0               22.0       6760.0  \n",
       "338      GOIBIBO               1.0               20.0       6354.9  \n",
       "\n",
       "[339 rows x 13 columns]"
      ]
     },
     "execution_count": 661,
     "metadata": {},
     "output_type": "execute_result"
    }
   ],
   "source": [
    "data_booking\n"
   ]
  },
  {
   "cell_type": "code",
   "execution_count": 663,
   "id": "6d4cec30-5afd-4214-9c77-9a0a00d06a18",
   "metadata": {},
   "outputs": [
    {
     "data": {
      "text/html": [
       "<div>\n",
       "<style scoped>\n",
       "    .dataframe tbody tr th:only-of-type {\n",
       "        vertical-align: middle;\n",
       "    }\n",
       "\n",
       "    .dataframe tbody tr th {\n",
       "        vertical-align: top;\n",
       "    }\n",
       "\n",
       "    .dataframe thead th {\n",
       "        text-align: right;\n",
       "    }\n",
       "</style>\n",
       "<table border=\"1\" class=\"dataframe\">\n",
       "  <thead>\n",
       "    <tr style=\"text-align: right;\">\n",
       "      <th></th>\n",
       "      <th>session_id</th>\n",
       "      <th>search_id</th>\n",
       "      <th>search_time</th>\n",
       "      <th>session_starting_time</th>\n",
       "      <th>booking_id</th>\n",
       "    </tr>\n",
       "  </thead>\n",
       "  <tbody>\n",
       "    <tr>\n",
       "      <th>0</th>\n",
       "      <td>session_322</td>\n",
       "      <td>search_784</td>\n",
       "      <td>2020-01-21T21:35:38.910Z</td>\n",
       "      <td>2020-01-21T21:10:12Z</td>\n",
       "      <td>NaN</td>\n",
       "    </tr>\n",
       "    <tr>\n",
       "      <th>1</th>\n",
       "      <td>session_322</td>\n",
       "      <td>search_776</td>\n",
       "      <td>2020-01-21T21:37:37.697Z</td>\n",
       "      <td>2020-01-21T21:10:12Z</td>\n",
       "      <td>NaN</td>\n",
       "    </tr>\n",
       "    <tr>\n",
       "      <th>2</th>\n",
       "      <td>session_322</td>\n",
       "      <td>search_623</td>\n",
       "      <td>2020-01-21T21:36:11.392Z</td>\n",
       "      <td>2020-01-21T21:10:12Z</td>\n",
       "      <td>NaN</td>\n",
       "    </tr>\n",
       "    <tr>\n",
       "      <th>3</th>\n",
       "      <td>session_322</td>\n",
       "      <td>search_270</td>\n",
       "      <td>2020-01-21T21:16:07.685Z</td>\n",
       "      <td>2020-01-21T21:10:12Z</td>\n",
       "      <td>NaN</td>\n",
       "    </tr>\n",
       "    <tr>\n",
       "      <th>4</th>\n",
       "      <td>session_322</td>\n",
       "      <td>search_905</td>\n",
       "      <td>2020-01-21T21:34:55.673Z</td>\n",
       "      <td>2020-01-21T21:10:12Z</td>\n",
       "      <td>NaN</td>\n",
       "    </tr>\n",
       "    <tr>\n",
       "      <th>...</th>\n",
       "      <td>...</td>\n",
       "      <td>...</td>\n",
       "      <td>...</td>\n",
       "      <td>...</td>\n",
       "      <td>...</td>\n",
       "    </tr>\n",
       "    <tr>\n",
       "      <th>1492</th>\n",
       "      <td>session_150</td>\n",
       "      <td>search_156</td>\n",
       "      <td>2018-12-18T22:59:43.764Z</td>\n",
       "      <td>2018-12-18T22:45:56Z</td>\n",
       "      <td>booking_120</td>\n",
       "    </tr>\n",
       "    <tr>\n",
       "      <th>1493</th>\n",
       "      <td>session_120</td>\n",
       "      <td>search_1096</td>\n",
       "      <td>2021-12-23T17:29:37Z</td>\n",
       "      <td>2021-12-23T17:29:33.217Z</td>\n",
       "      <td>NaN</td>\n",
       "    </tr>\n",
       "    <tr>\n",
       "      <th>1494</th>\n",
       "      <td>session_120</td>\n",
       "      <td>search_962</td>\n",
       "      <td>2021-12-23T17:34:39Z</td>\n",
       "      <td>2021-12-23T17:29:33.217Z</td>\n",
       "      <td>NaN</td>\n",
       "    </tr>\n",
       "    <tr>\n",
       "      <th>1495</th>\n",
       "      <td>session_150</td>\n",
       "      <td>search_1306</td>\n",
       "      <td>2018-12-18T22:52:37.654Z</td>\n",
       "      <td>2018-12-18T22:45:56Z</td>\n",
       "      <td>NaN</td>\n",
       "    </tr>\n",
       "    <tr>\n",
       "      <th>1496</th>\n",
       "      <td>session_120</td>\n",
       "      <td>search_1180</td>\n",
       "      <td>2021-12-23T17:34:52Z</td>\n",
       "      <td>2021-12-23T17:29:33.217Z</td>\n",
       "      <td>booking_155</td>\n",
       "    </tr>\n",
       "  </tbody>\n",
       "</table>\n",
       "<p>1497 rows × 5 columns</p>\n",
       "</div>"
      ],
      "text/plain": [
       "       session_id    search_id               search_time  \\\n",
       "0     session_322   search_784  2020-01-21T21:35:38.910Z   \n",
       "1     session_322   search_776  2020-01-21T21:37:37.697Z   \n",
       "2     session_322   search_623  2020-01-21T21:36:11.392Z   \n",
       "3     session_322   search_270  2020-01-21T21:16:07.685Z   \n",
       "4     session_322   search_905  2020-01-21T21:34:55.673Z   \n",
       "...           ...          ...                       ...   \n",
       "1492  session_150   search_156  2018-12-18T22:59:43.764Z   \n",
       "1493  session_120  search_1096      2021-12-23T17:29:37Z   \n",
       "1494  session_120   search_962      2021-12-23T17:34:39Z   \n",
       "1495  session_150  search_1306  2018-12-18T22:52:37.654Z   \n",
       "1496  session_120  search_1180      2021-12-23T17:34:52Z   \n",
       "\n",
       "         session_starting_time   booking_id  \n",
       "0         2020-01-21T21:10:12Z          NaN  \n",
       "1         2020-01-21T21:10:12Z          NaN  \n",
       "2         2020-01-21T21:10:12Z          NaN  \n",
       "3         2020-01-21T21:10:12Z          NaN  \n",
       "4         2020-01-21T21:10:12Z          NaN  \n",
       "...                        ...          ...  \n",
       "1492      2018-12-18T22:45:56Z  booking_120  \n",
       "1493  2021-12-23T17:29:33.217Z          NaN  \n",
       "1494  2021-12-23T17:29:33.217Z          NaN  \n",
       "1495      2018-12-18T22:45:56Z          NaN  \n",
       "1496  2021-12-23T17:29:33.217Z  booking_155  \n",
       "\n",
       "[1497 rows x 5 columns]"
      ]
     },
     "execution_count": 663,
     "metadata": {},
     "output_type": "execute_result"
    }
   ],
   "source": [
    "data_session\n"
   ]
  },
  {
   "cell_type": "markdown",
   "id": "2642f225-ddf4-4668-a12f-4f7f6a416414",
   "metadata": {},
   "source": [
    "# Find the number of distinct bookings, sessions, and searches from the given data sets."
   ]
  },
  {
   "cell_type": "code",
   "execution_count": 541,
   "id": "db8121e2-b7e6-4808-a755-4515467e7981",
   "metadata": {},
   "outputs": [
    {
     "data": {
      "text/plain": [
       "339"
      ]
     },
     "execution_count": 541,
     "metadata": {},
     "output_type": "execute_result"
    }
   ],
   "source": [
    "#Bookings\n",
    "data_booking['booking_id'].unique()\n",
    "len(data_booking['booking_id'].unique())"
   ]
  },
  {
   "cell_type": "code",
   "execution_count": 543,
   "id": "d0732784-fbbc-47b4-83cb-30edb526b2aa",
   "metadata": {},
   "outputs": [
    {
     "data": {
      "text/plain": [
       "331"
      ]
     },
     "execution_count": 543,
     "metadata": {},
     "output_type": "execute_result"
    }
   ],
   "source": [
    "#Sesions\n",
    "data_session['session_id'].unique()\n",
    "len(data_session['session_id'].unique())"
   ]
  },
  {
   "cell_type": "code",
   "execution_count": 545,
   "id": "3f0a8d2c-2392-4446-8dca-cebfe560b181",
   "metadata": {},
   "outputs": [
    {
     "data": {
      "text/plain": [
       "1360"
      ]
     },
     "execution_count": 545,
     "metadata": {},
     "output_type": "execute_result"
    }
   ],
   "source": [
    "data_session['search_id'].unique()\n",
    "len(data_session['search_id'].unique())"
   ]
  },
  {
   "cell_type": "markdown",
   "id": "3134f489-6c02-4e24-8d32-a3830c1a24b9",
   "metadata": {},
   "source": [
    "# How many sesions has more than one booking"
   ]
  },
  {
   "cell_type": "code",
   "execution_count": 548,
   "id": "e914f9bb-963f-42d0-b34c-6a0a99a3d689",
   "metadata": {},
   "outputs": [],
   "source": [
    "# First, delete sesions without booking \n",
    "sessions_with_bookings = data_session[data_session['booking_id'].notna()]"
   ]
  },
  {
   "cell_type": "code",
   "execution_count": 550,
   "id": "61f5f475-0ede-4883-bd49-c2b474b79904",
   "metadata": {},
   "outputs": [],
   "source": [
    "# group by session_id and booking_id\n",
    "session_booking_counts = sessions_with_bookings.groupby('session_id')['booking_id'].count()"
   ]
  },
  {
   "cell_type": "code",
   "execution_count": 552,
   "id": "385a6db0-4ac5-46b4-ba4e-ef6c845efa75",
   "metadata": {},
   "outputs": [
    {
     "data": {
      "text/plain": [
       "session_id\n",
       "session_0      1\n",
       "session_1      1\n",
       "session_10     1\n",
       "session_100    1\n",
       "session_101    1\n",
       "              ..\n",
       "session_95     1\n",
       "session_96     1\n",
       "session_97     1\n",
       "session_98     1\n",
       "session_99     1\n",
       "Name: booking_id, Length: 329, dtype: int64"
      ]
     },
     "execution_count": 552,
     "metadata": {},
     "output_type": "execute_result"
    }
   ],
   "source": [
    "session_booking_counts"
   ]
  },
  {
   "cell_type": "code",
   "execution_count": 554,
   "id": "9e4c456b-8b49-4f52-bad2-1fa176aff4c9",
   "metadata": {},
   "outputs": [],
   "source": [
    "# Filter sesions with session_booking_counts>1\n",
    "sessions_with_multiple_bookings = session_booking_counts[session_booking_counts > 1]"
   ]
  },
  {
   "cell_type": "code",
   "execution_count": 556,
   "id": "b7b37432-fb5a-48fb-9602-cec84c8fb324",
   "metadata": {},
   "outputs": [
    {
     "data": {
      "text/plain": [
       "35"
      ]
     },
     "execution_count": 556,
     "metadata": {},
     "output_type": "execute_result"
    }
   ],
   "source": [
    "len(sessions_with_multiple_bookings)"
   ]
  },
  {
   "cell_type": "markdown",
   "id": "a0a96830-fd42-4a2b-b5cb-d1e3c53f32b9",
   "metadata": {},
   "source": [
    "# Which days of the week have the highest number of bookings? Also, draw a pie chart to show the distribution for all days of the week?"
   ]
  },
  {
   "cell_type": "code",
   "execution_count": 559,
   "id": "eb970ed5-52bd-4a76-9e7f-2a3df5e09ac2",
   "metadata": {},
   "outputs": [],
   "source": [
    "data_booking['booking_time'] = pd.to_datetime(data_booking['booking_time'])"
   ]
  },
  {
   "cell_type": "code",
   "execution_count": 561,
   "id": "ae8e0b00-a335-4960-9456-bd857a71a67b",
   "metadata": {},
   "outputs": [],
   "source": [
    "data_booking['day_of_week'] = data_booking['booking_time'].dt.day_name()"
   ]
  },
  {
   "cell_type": "code",
   "execution_count": 563,
   "id": "4ecdbbec-b544-4f7c-89f3-70b009828d74",
   "metadata": {},
   "outputs": [],
   "source": [
    "data_booking_day=data_booking.groupby(\"day_of_week\").size()"
   ]
  },
  {
   "cell_type": "code",
   "execution_count": 565,
   "id": "6eda99ae-7352-4196-8552-0d554242073a",
   "metadata": {},
   "outputs": [
    {
     "data": {
      "text/plain": [
       "<Axes: >"
      ]
     },
     "execution_count": 565,
     "metadata": {},
     "output_type": "execute_result"
    },
    {
     "data": {
      "image/png": "[encoded data removed]",
      "text/plain": [
       "<Figure size 640x480 with 1 Axes>"
      ]
     },
     "metadata": {},
     "output_type": "display_data"
    }
   ],
   "source": [
    "data_booking_day.plot(kind='pie')"
   ]
  },
  {
   "cell_type": "code",
   "execution_count": 566,
   "id": "d5faae56-5a88-4e64-8606-6d70a1ea5f4d",
   "metadata": {},
   "outputs": [
    {
     "data": {
      "text/plain": [
       "day_of_week\n",
       "Friday       51\n",
       "Monday       51\n",
       "Saturday     44\n",
       "Sunday       35\n",
       "Thursday     65\n",
       "Tuesday      59\n",
       "Wednesday    34\n",
       "dtype: int64"
      ]
     },
     "execution_count": 566,
     "metadata": {},
     "output_type": "execute_result"
    }
   ],
   "source": [
    "data_booking_day"
   ]
  },
  {
   "cell_type": "markdown",
   "id": "220be749-eb15-4dff-bbee-253cf963ec6a",
   "metadata": {},
   "source": [
    "# For customers who have more than 1 booking, which is the most booked route (from_city to to_city)?"
   ]
  },
  {
   "cell_type": "code",
   "execution_count": 570,
   "id": "a651e3e0-3a70-49fb-884f-f09c76f814c2",
   "metadata": {},
   "outputs": [],
   "source": [
    "bookings_costumer = data_booking[data_booking['booking_id'].notna()]"
   ]
  },
  {
   "cell_type": "code",
   "execution_count": 572,
   "id": "f0431685-9241-41e4-b4cd-77e80d639cc4",
   "metadata": {},
   "outputs": [],
   "source": [
    "booking_costumer_counts = bookings_costumer.groupby('customer_id')['booking_id'].count()"
   ]
  },
  {
   "cell_type": "code",
   "execution_count": 574,
   "id": "9e93d06a-eadc-4f62-aba9-af096d37e1f4",
   "metadata": {},
   "outputs": [
    {
     "data": {
      "text/plain": [
       "customer_id\n",
       "customer_0      1\n",
       "customer_1      1\n",
       "customer_10     1\n",
       "customer_100    1\n",
       "customer_101    1\n",
       "               ..\n",
       "customer_95     1\n",
       "customer_96     1\n",
       "customer_97     4\n",
       "customer_98     1\n",
       "customer_99     1\n",
       "Name: booking_id, Length: 306, dtype: int64"
      ]
     },
     "execution_count": 574,
     "metadata": {},
     "output_type": "execute_result"
    }
   ],
   "source": [
    "booking_costumer_counts"
   ]
  },
  {
   "cell_type": "code",
   "execution_count": 576,
   "id": "16134702-25d0-434b-81bf-bb70c693f94d",
   "metadata": {},
   "outputs": [],
   "source": [
    "booking_costumer_counts=booking_costumer_counts[booking_costumer_counts>1]"
   ]
  },
  {
   "cell_type": "code",
   "execution_count": 578,
   "id": "b484e2ad-a8b1-4704-bd5d-dde96da01609",
   "metadata": {},
   "outputs": [
    {
     "data": {
      "text/plain": [
       "customer_id\n",
       "customer_120    2\n",
       "customer_137    2\n",
       "customer_144    2\n",
       "customer_155    2\n",
       "customer_160    3\n",
       "customer_176    3\n",
       "customer_179    2\n",
       "customer_200    2\n",
       "customer_217    3\n",
       "customer_230    3\n",
       "customer_235    2\n",
       "customer_237    2\n",
       "customer_245    2\n",
       "customer_246    3\n",
       "customer_247    2\n",
       "customer_255    2\n",
       "customer_265    2\n",
       "customer_28     2\n",
       "customer_282    2\n",
       "customer_297    2\n",
       "customer_33     2\n",
       "customer_44     2\n",
       "customer_49     2\n",
       "customer_67     2\n",
       "customer_93     2\n",
       "customer_97     4\n",
       "Name: booking_id, dtype: int64"
      ]
     },
     "execution_count": 578,
     "metadata": {},
     "output_type": "execute_result"
    }
   ],
   "source": [
    "booking_costumer_counts"
   ]
  },
  {
   "cell_type": "code",
   "execution_count": 580,
   "id": "2c3ee53e-6f0a-4506-a858-29d7f191b830",
   "metadata": {},
   "outputs": [],
   "source": [
    "customer_ids_multiple = booking_costumer_counts.index"
   ]
  },
  {
   "cell_type": "code",
   "execution_count": 582,
   "id": "5a5e687f-6068-4faa-85bf-a5fe079f06be",
   "metadata": {},
   "outputs": [],
   "source": [
    "filtered_bookings = data_booking[data_booking['customer_id'].isin(customer_ids_multiple)]"
   ]
  },
  {
   "cell_type": "code",
   "execution_count": 584,
   "id": "dcf3128d-5d04-4419-a608-463226da8422",
   "metadata": {},
   "outputs": [],
   "source": [
    "filtered_bookings = data_booking[data_booking['customer_id'].isin(customer_ids_multiple)].copy()\n",
    "filtered_bookings['route'] = filtered_bookings['from_city'] + ' to ' + filtered_bookings['to_city']"
   ]
  },
  {
   "cell_type": "code",
   "execution_count": 586,
   "id": "4364e78f-b824-481e-91b2-09368ca1008d",
   "metadata": {},
   "outputs": [],
   "source": [
    "route_counts = filtered_bookings['route'].value_counts()"
   ]
  },
  {
   "cell_type": "code",
   "execution_count": 588,
   "id": "b8abaa85-3e94-40f0-bb08-6175a40ede6f",
   "metadata": {},
   "outputs": [
    {
     "data": {
      "text/plain": [
       "route\n",
       "Gurgaon to Roissy-en-France         5\n",
       "Gurgaon to Rāja Sānsi               3\n",
       "Durlaga to Bhubaneswar              2\n",
       "Gurgaon to Bagdogra                 2\n",
       "Bālāpur to Düsseldorf               2\n",
       "Gurgaon to Bhubaneswar              2\n",
       "Gurgaon to Paris                    2\n",
       "Gurgaon to Tiruchi                  2\n",
       "Devanhalli to Gurgaon               2\n",
       "Rāja Sānsi to Paris                 1\n",
       "Jammu to Dubai                      1\n",
       "Patna to Gurgaon                    1\n",
       "Ahmedabad to Gwalior                1\n",
       "Bikaner to Gurgaon                  1\n",
       "Kolkata to Gurgaon                  1\n",
       "Delhi to Varanasi                   1\n",
       "Gurgaon to Dharamsala               1\n",
       "Gurgaon to Varanasi                 1\n",
       "Thiruvananthapuram to London        1\n",
       "Madhyamgram to Frankfurt am Main    1\n",
       "Varanasi to Delhi                   1\n",
       "Gurgaon to Mumbai                   1\n",
       "Gurgaon to Frankfurt am Main        1\n",
       "Gurgaon to Patna                    1\n",
       "Rāja Sānsi to Gurgaon               1\n",
       "Delhi to Jammu                      1\n",
       "Kochi to London                     1\n",
       "Gurgaon to Barelā                   1\n",
       "Dharamsala to Gurgaon               1\n",
       "Indore to Mumbai                    1\n",
       "Gurgaon to Port Blair               1\n",
       "Mumbai to Jaipur                    1\n",
       "Gurgaon to Fiumicino                1\n",
       "Gurgaon to Birmingham               1\n",
       "Pune to Nagpur                      1\n",
       "Delhi to Paris                      1\n",
       "Barelā to Gurgaon                   1\n",
       "Gurgaon to Lisbon                   1\n",
       "Jaipur to Agra                      1\n",
       "Mumbai to Chicalim                  1\n",
       "Delhi to Yol                        1\n",
       "Surat to Devanhalli                 1\n",
       "Mumbai to Lucknow                   1\n",
       "Gurgaon to Hamburg                  1\n",
       "Bhubaneswar to Durlaga              1\n",
       "Gurgaon to Berlin                   1\n",
       "Name: count, dtype: int64"
      ]
     },
     "execution_count": 588,
     "metadata": {},
     "output_type": "execute_result"
    }
   ],
   "source": [
    "route_counts"
   ]
  },
  {
   "cell_type": "code",
   "execution_count": 590,
   "id": "8547a8ce-904a-4fd3-bc3f-ea4ba30af671",
   "metadata": {},
   "outputs": [],
   "source": [
    "most_booked_route = route_counts.index[0] "
   ]
  },
  {
   "cell_type": "code",
   "execution_count": 592,
   "id": "19659734-b769-4c2e-a00d-f3aa2775511e",
   "metadata": {},
   "outputs": [
    {
     "data": {
      "text/plain": [
       "'Gurgaon to Roissy-en-France'"
      ]
     },
     "execution_count": 592,
     "metadata": {},
     "output_type": "execute_result"
    }
   ],
   "source": [
    "most_booked_route"
   ]
  },
  {
   "cell_type": "markdown",
   "id": "622b4241-8520-44d9-86ec-ce737a8192a6",
   "metadata": {},
   "source": [
    "# Which are the top 3 departure cities from where customers book mostly in advance, provided that there have been at least 5 departures from that city?"
   ]
  },
  {
   "cell_type": "code",
   "execution_count": 595,
   "id": "1eee7cf8-2b67-41d1-beb3-b439301974b6",
   "metadata": {},
   "outputs": [
    {
     "data": {
      "text/plain": [
       "to_city\n",
       "Frankfurt am Main    49\n",
       "Gurgaon              30\n",
       "Roissy-en-France     20\n",
       "Paris                18\n",
       "Fiumicino            15\n",
       "                     ..\n",
       "Amritsar              1\n",
       "Ikeja                 1\n",
       "Mérignac              1\n",
       "Reggio Calabria       1\n",
       "Luqa                  1\n",
       "Name: count, Length: 95, dtype: int64"
      ]
     },
     "execution_count": 595,
     "metadata": {},
     "output_type": "execute_result"
    }
   ],
   "source": [
    "city_departure= data_booking[\"to_city\"].value_counts()\n",
    "city_departure"
   ]
  },
  {
   "cell_type": "code",
   "execution_count": 597,
   "id": "5c020223-1f49-465f-83e6-64ae01cd9b1d",
   "metadata": {},
   "outputs": [
    {
     "data": {
      "text/plain": [
       "Index(['Frankfurt am Main', 'Gurgaon', 'Roissy-en-France', 'Paris',\n",
       "       'Fiumicino', 'London', 'Berlin', 'Rāja Sānsi', 'Mumbai', 'Dubai',\n",
       "       'Milan', 'Varanasi'],\n",
       "      dtype='object', name='to_city')"
      ]
     },
     "execution_count": 597,
     "metadata": {},
     "output_type": "execute_result"
    }
   ],
   "source": [
    "city_departuure_min=city_departure[city_departure>5].index\n",
    "city_departuure_min"
   ]
  },
  {
   "cell_type": "code",
   "execution_count": 599,
   "id": "9d90882c-a3b2-45bf-babf-ef8e4a7d6120",
   "metadata": {},
   "outputs": [],
   "source": [
    "filtered_data = data_booking[data_booking['from_city'].isin(city_departuure_min)]"
   ]
  },
  {
   "cell_type": "code",
   "execution_count": 601,
   "id": "88dfae6e-5294-4e6f-80cb-807d099d75bc",
   "metadata": {},
   "outputs": [],
   "source": [
    "avg_advance_by_city = filtered_data.groupby('from_city')['days_to_departure'].mean()"
   ]
  },
  {
   "cell_type": "code",
   "execution_count": 603,
   "id": "32f7da2c-bbdc-480f-b61b-0d7eecc91732",
   "metadata": {},
   "outputs": [
    {
     "data": {
      "text/plain": [
       "from_city\n",
       "Gurgaon       26.176471\n",
       "Mumbai        21.764706\n",
       "Rāja Sānsi     8.823529\n",
       "Varanasi       9.000000\n",
       "Name: days_to_departure, dtype: float64"
      ]
     },
     "execution_count": 603,
     "metadata": {},
     "output_type": "execute_result"
    }
   ],
   "source": [
    "avg_advance_by_city"
   ]
  },
  {
   "cell_type": "code",
   "execution_count": 605,
   "id": "0b2da461-f4bd-40f3-a991-6d25333da190",
   "metadata": {},
   "outputs": [],
   "source": [
    "top_3_advance_cities = avg_advance_by_city.sort_values(ascending=False).head(3)"
   ]
  },
  {
   "cell_type": "code",
   "execution_count": 607,
   "id": "93dc8cbd-2e85-4c0c-a17e-743b27a20dc6",
   "metadata": {},
   "outputs": [
    {
     "name": "stdout",
     "output_type": "stream",
     "text": [
      "Top 3 cities with most advance bookings:\n",
      "from_city\n",
      "Gurgaon     26.176471\n",
      "Mumbai      21.764706\n",
      "Varanasi     9.000000\n",
      "Name: days_to_departure, dtype: float64\n"
     ]
    }
   ],
   "source": [
    "print(\"Top 3 cities with most advance bookings:\")\n",
    "print(top_3_advance_cities)"
   ]
  },
  {
   "cell_type": "markdown",
   "id": "f4e4462f-aa07-4119-a137-c09acf4fce9c",
   "metadata": {},
   "source": [
    "# Plot a heatmap displaying correlations of the numerical column and report which pair of numerical columns in the bookings data set, have the maximum correlation?"
   ]
  },
  {
   "cell_type": "code",
   "execution_count": 610,
   "id": "134b192b-9a90-4be2-a1d8-d5a817db4706",
   "metadata": {},
   "outputs": [
    {
     "data": {
      "text/plain": [
       "Index(['customer_id', 'booking_id', 'from_city', 'from_country', 'to_city',\n",
       "       'to_country', 'booking_time', 'device_type_used', 'INR_Amount',\n",
       "       'service_name', 'no_of_passengers', 'days_to_departure', 'distance_km',\n",
       "       'day_of_week'],\n",
       "      dtype='object')"
      ]
     },
     "execution_count": 610,
     "metadata": {},
     "output_type": "execute_result"
    }
   ],
   "source": [
    "columns=data_booking.columns\n",
    "columns"
   ]
  },
  {
   "cell_type": "code",
   "execution_count": 612,
   "id": "58f323c7-9b63-4c21-9af1-4fcbf484a782",
   "metadata": {},
   "outputs": [
    {
     "name": "stdout",
     "output_type": "stream",
     "text": [
      "Numerical columns: Index(['INR_Amount', 'no_of_passengers', 'days_to_departure', 'distance_km'], dtype='object')\n"
     ]
    }
   ],
   "source": [
    "\n",
    "numerical_cols = data_booking.select_dtypes(include=['int64', 'float64']).columns\n",
    "print(\"Numerical columns:\", numerical_cols)"
   ]
  },
  {
   "cell_type": "code",
   "execution_count": 614,
   "id": "7b2e3d81-ec71-443d-98bf-05728ec097a2",
   "metadata": {},
   "outputs": [
    {
     "data": {
      "text/html": [
       "<div>\n",
       "<style scoped>\n",
       "    .dataframe tbody tr th:only-of-type {\n",
       "        vertical-align: middle;\n",
       "    }\n",
       "\n",
       "    .dataframe tbody tr th {\n",
       "        vertical-align: top;\n",
       "    }\n",
       "\n",
       "    .dataframe thead th {\n",
       "        text-align: right;\n",
       "    }\n",
       "</style>\n",
       "<table border=\"1\" class=\"dataframe\">\n",
       "  <thead>\n",
       "    <tr style=\"text-align: right;\">\n",
       "      <th></th>\n",
       "      <th>INR_Amount</th>\n",
       "      <th>no_of_passengers</th>\n",
       "      <th>days_to_departure</th>\n",
       "      <th>distance_km</th>\n",
       "    </tr>\n",
       "  </thead>\n",
       "  <tbody>\n",
       "    <tr>\n",
       "      <th>INR_Amount</th>\n",
       "      <td>1.000000</td>\n",
       "      <td>0.397229</td>\n",
       "      <td>0.284534</td>\n",
       "      <td>0.623565</td>\n",
       "    </tr>\n",
       "    <tr>\n",
       "      <th>no_of_passengers</th>\n",
       "      <td>0.397229</td>\n",
       "      <td>1.000000</td>\n",
       "      <td>0.187128</td>\n",
       "      <td>0.001698</td>\n",
       "    </tr>\n",
       "    <tr>\n",
       "      <th>days_to_departure</th>\n",
       "      <td>0.284534</td>\n",
       "      <td>0.187128</td>\n",
       "      <td>1.000000</td>\n",
       "      <td>0.216972</td>\n",
       "    </tr>\n",
       "    <tr>\n",
       "      <th>distance_km</th>\n",
       "      <td>0.623565</td>\n",
       "      <td>0.001698</td>\n",
       "      <td>0.216972</td>\n",
       "      <td>1.000000</td>\n",
       "    </tr>\n",
       "  </tbody>\n",
       "</table>\n",
       "</div>"
      ],
      "text/plain": [
       "                   INR_Amount  no_of_passengers  days_to_departure  \\\n",
       "INR_Amount           1.000000          0.397229           0.284534   \n",
       "no_of_passengers     0.397229          1.000000           0.187128   \n",
       "days_to_departure    0.284534          0.187128           1.000000   \n",
       "distance_km          0.623565          0.001698           0.216972   \n",
       "\n",
       "                   distance_km  \n",
       "INR_Amount            0.623565  \n",
       "no_of_passengers      0.001698  \n",
       "days_to_departure     0.216972  \n",
       "distance_km           1.000000  "
      ]
     },
     "execution_count": 614,
     "metadata": {},
     "output_type": "execute_result"
    }
   ],
   "source": [
    "correlation_matrix=data_booking[numerical_cols].corr()\n",
    "correlation_matrix"
   ]
  },
  {
   "cell_type": "code",
   "execution_count": 616,
   "id": "e1ec7b08-5ce7-482b-8742-b9c4dde91739",
   "metadata": {},
   "outputs": [
    {
     "data": {
      "image/png": "[encoded data removed]",
      "text/plain": [
       "<Figure size 1000x800 with 2 Axes>"
      ]
     },
     "metadata": {},
     "output_type": "display_data"
    }
   ],
   "source": [
    "plt.figure(figsize=(10, 8)) \n",
    "sns.heatmap(correlation_matrix,annot=True)\n",
    "plt.title('Correlation Heatmap of Numerical Columns')\n",
    "plt.show()"
   ]
  },
  {
   "cell_type": "code",
   "execution_count": 618,
   "id": "c432fdbc-9851-4cad-bc6b-97b1b080c36e",
   "metadata": {},
   "outputs": [],
   "source": [
    "corr_copy = correlation_matrix.copy()\n",
    "np.fill_diagonal(corr_copy.values, np.nan)"
   ]
  },
  {
   "cell_type": "code",
   "execution_count": 620,
   "id": "1ea51600-a419-422b-8f9b-f0f01f7b67fe",
   "metadata": {},
   "outputs": [
    {
     "name": "stdout",
     "output_type": "stream",
     "text": [
      "Maximum correlation: 0.6235653096997817\n"
     ]
    }
   ],
   "source": [
    "max_corr = corr_copy.max().max()\n",
    "print(f\"Maximum correlation: {max_corr}\")"
   ]
  },
  {
   "cell_type": "markdown",
   "id": "1ca4949e-7493-42d4-9708-c3b5193066e5",
   "metadata": {},
   "source": [
    "# For each service, which is the most used device type for making bookings on the platform?"
   ]
  },
  {
   "cell_type": "code",
   "execution_count": 623,
   "id": "4334277e-ff12-4404-afda-48469318106f",
   "metadata": {},
   "outputs": [],
   "source": [
    "data=data_booking[data_booking[\"service_name\"].notna()]"
   ]
  },
  {
   "cell_type": "code",
   "execution_count": 625,
   "id": "61ef04f1-ec97-49f3-a719-bddac37b5dee",
   "metadata": {},
   "outputs": [],
   "source": [
    "booking_device_counts = data.groupby('service_name')['device_type_used'].value_counts()"
   ]
  },
  {
   "cell_type": "code",
   "execution_count": 627,
   "id": "3ad5fa42-1996-4d90-8067-3e0e53c9679d",
   "metadata": {},
   "outputs": [
    {
     "data": {
      "text/plain": [
       "service_name  device_type_used\n",
       "GOIBIBO       IOS                 70\n",
       "              Desktop             61\n",
       "              Android             44\n",
       "              MobileWeb           11\n",
       "MMT           Desktop             30\n",
       "              Android              8\n",
       "              IOS                  5\n",
       "              MobileWeb            5\n",
       "YATRA         Desktop             51\n",
       "              IOS                 22\n",
       "              Android             18\n",
       "              MobileWeb           11\n",
       "              Tablet               3\n",
       "Name: count, dtype: int64"
      ]
     },
     "execution_count": 627,
     "metadata": {},
     "output_type": "execute_result"
    }
   ],
   "source": [
    "booking_device_counts"
   ]
  },
  {
   "cell_type": "code",
   "execution_count": 629,
   "id": "370fd7d8-dacf-459e-a4b8-4ada7f40c683",
   "metadata": {},
   "outputs": [
    {
     "name": "stdout",
     "output_type": "stream",
     "text": [
      "Most used device per service:\n",
      "service_name  device_type_used\n",
      "GOIBIBO       IOS                 70\n",
      "MMT           Desktop             30\n",
      "YATRA         Desktop             51\n",
      "Name: count, dtype: int64\n"
     ]
    }
   ],
   "source": [
    "max_devices = booking_device_counts.groupby('service_name').head(1)\n",
    "print(\"Most used device per service:\")\n",
    "print(max_devices)"
   ]
  },
  {
   "cell_type": "markdown",
   "id": "e0ca316f-9473-4d14-a9cc-efef5d7cbf38",
   "metadata": {},
   "source": [
    "# Plot the trends at a quarterly frequency for the number of bookings by each of the device types, that is, plot a time series for each year and quarter showing the number of bookings performed by each device type."
   ]
  },
  {
   "cell_type": "code",
   "execution_count": 632,
   "id": "efc085e3-a82c-4040-9b7d-8a9a8e129e25",
   "metadata": {},
   "outputs": [],
   "source": [
    "\n",
    "data_booking['booking_time'] = pd.to_datetime(data_booking['booking_time'])"
   ]
  },
  {
   "cell_type": "code",
   "execution_count": 634,
   "id": "f68baed1-09e3-44a6-9a8a-fee5124c9087",
   "metadata": {},
   "outputs": [
    {
     "name": "stderr",
     "output_type": "stream",
     "text": [
      "C:\\Users\\X\\AppData\\Local\\Temp\\ipykernel_6780\\2916357987.py:1: UserWarning:\n",
      "\n",
      "Converting to PeriodArray/Index representation will drop timezone information.\n",
      "\n"
     ]
    }
   ],
   "source": [
    "data_booking['quarter'] = data_booking['booking_time'].dt.to_period('Q')"
   ]
  },
  {
   "cell_type": "code",
   "execution_count": 636,
   "id": "6a94c22b-b817-4988-a63c-706618fb612f",
   "metadata": {},
   "outputs": [],
   "source": [
    "grouped = data_booking.groupby(['quarter', 'device_type_used']).size().unstack(fill_value=0)"
   ]
  },
  {
   "cell_type": "code",
   "execution_count": 638,
   "id": "c810ec48-afdf-4f36-9160-5feece494734",
   "metadata": {},
   "outputs": [],
   "source": [
    "grouped.index = grouped.index.to_timestamp()\n"
   ]
  },
  {
   "cell_type": "code",
   "execution_count": 640,
   "id": "b093db0f-6e5a-441e-ad1f-64c30dc1526e",
   "metadata": {},
   "outputs": [
    {
     "data": {
      "text/plain": [
       "<Figure size 1200x600 with 0 Axes>"
      ]
     },
     "metadata": {},
     "output_type": "display_data"
    },
    {
     "data": {
      "image/png": "[encoded data removed]",
      "text/plain": [
       "<Figure size 640x480 with 1 Axes>"
      ]
     },
     "metadata": {},
     "output_type": "display_data"
    }
   ],
   "source": [
    "plt.figure(figsize=(12, 6))\n",
    "grouped.plot(marker='o')\n",
    "plt.title('Number of Bookings by Device Type (Quarterly)')\n",
    "plt.xlabel('Quarter')\n",
    "plt.ylabel('Number of Bookings')\n",
    "plt.grid(True)\n",
    "plt.xticks(rotation=45)\n",
    "plt.tight_layout()\n",
    "plt.show()"
   ]
  },
  {
   "cell_type": "markdown",
   "id": "aa83d1e9-f93c-4bb3-b078-92fd82e1da19",
   "metadata": {},
   "source": [
    "# Consider the following example: \n",
    "\n",
    "12 customers performed a total of 100 searches but only a few of them performed 10 bookings in total.\n",
    "\n",
    "Searches = 100 bookings = 10 customers = 12\n",
    "\n",
    "The overall booking to search ratio, Ober, is 10/100 = 0.1 Using the above information/context, answer the following:\n",
    "\n",
    "What is the average oBSR for each month of the year?\n",
    "\n",
    "What is the average oBSR for each day of the week?\n",
    "\n",
    "Plot a time series of oBSR on all the given dates."
   ]
  },
  {
   "cell_type": "code",
   "execution_count": 643,
   "id": "90551699-e9f8-4562-b751-33ef9739bd93",
   "metadata": {},
   "outputs": [],
   "source": [
    "data_session['search_time'] = pd.to_datetime(data_session['search_time'], errors='coerce')\n",
    "\n",
    "data_session['month'] = data_session['search_time'].dt.month\n",
    "data_session['day_of_week'] = data_session['search_time'].dt.day_name()"
   ]
  },
  {
   "cell_type": "code",
   "execution_count": 645,
   "id": "e1443f45-1794-4030-bba0-71bfc2b277ac",
   "metadata": {},
   "outputs": [],
   "source": [
    "data_session['booking_id'] = pd.to_numeric(data_session['booking_id'], errors='coerce')\n",
    "data_session['search_id'] = pd.to_numeric(data_session['search_id'], errors='coerce')"
   ]
  },
  {
   "cell_type": "code",
   "execution_count": 647,
   "id": "9f4e6677-98a1-4d2a-a8fc-0206539112c2",
   "metadata": {},
   "outputs": [],
   "source": [
    "data_session = data_session.dropna(subset=['booking_id', 'search_id'])"
   ]
  },
  {
   "cell_type": "code",
   "execution_count": 649,
   "id": "cda3e50f-ff48-4d81-871f-9bfa03e75c48",
   "metadata": {},
   "outputs": [
    {
     "name": "stdout",
     "output_type": "stream",
     "text": [
      "Average oBSR by month:\n",
      "Series([], Name: oBSR, dtype: float64)\n"
     ]
    }
   ],
   "source": [
    "monthly = data_session.groupby('month')[['booking_id', 'search_id']].sum()\n",
    "monthly['oBSR'] = monthly['booking_id'] / monthly['search_id']\n",
    "print(\"Average oBSR by month:\")\n",
    "print(monthly['oBSR'])"
   ]
  },
  {
   "cell_type": "code",
   "execution_count": 651,
   "id": "c65af734-983b-4c0d-9131-7f983517e45b",
   "metadata": {},
   "outputs": [
    {
     "name": "stdout",
     "output_type": "stream",
     "text": [
      "<class 'pandas.core.frame.DataFrame'>\n",
      "Index: 0 entries\n",
      "Data columns (total 2 columns):\n",
      " #   Column      Non-Null Count  Dtype  \n",
      "---  ------      --------------  -----  \n",
      " 0   booking_id  0 non-null      float64\n",
      " 1   search_id   0 non-null      float64\n",
      "dtypes: float64(2)\n",
      "memory usage: 0.0 bytes\n",
      "None\n",
      "Empty DataFrame\n",
      "Columns: [booking_id, search_id]\n",
      "Index: []\n"
     ]
    }
   ],
   "source": [
    "print(data_session[['booking_id', 'search_id']].info())\n",
    "print(data_session[['booking_id', 'search_id']].head())\n"
   ]
  },
  {
   "cell_type": "code",
   "execution_count": 665,
   "id": "182d69bc-8948-4a2d-b79b-03e22143c96b",
   "metadata": {},
   "outputs": [
    {
     "name": "stdout",
     "output_type": "stream",
     "text": [
      "<class 'pandas.core.frame.DataFrame'>\n",
      "RangeIndex: 1497 entries, 0 to 1496\n",
      "Data columns (total 2 columns):\n",
      " #   Column      Non-Null Count  Dtype \n",
      "---  ------      --------------  ----- \n",
      " 0   booking_id  366 non-null    object\n",
      " 1   search_id   1497 non-null   object\n",
      "dtypes: object(2)\n",
      "memory usage: 23.5+ KB\n",
      "None\n"
     ]
    }
   ],
   "source": [
    "print(data_session[['booking_id', 'search_id']].info())\n"
   ]
  },
  {
   "cell_type": "code",
   "execution_count": 667,
   "id": "9f41c6b4-512d-472e-b570-2de1e626edce",
   "metadata": {},
   "outputs": [
    {
     "name": "stdout",
     "output_type": "stream",
     "text": [
      "<class 'pandas.core.frame.DataFrame'>\n",
      "RangeIndex: 1497 entries, 0 to 1496\n",
      "Data columns (total 5 columns):\n",
      " #   Column                 Non-Null Count  Dtype \n",
      "---  ------                 --------------  ----- \n",
      " 0   session_id             1497 non-null   object\n",
      " 1   search_id              1497 non-null   object\n",
      " 2   search_time            1497 non-null   object\n",
      " 3   session_starting_time  1497 non-null   object\n",
      " 4   booking_id             366 non-null    object\n",
      "dtypes: object(5)\n",
      "memory usage: 58.6+ KB\n",
      "None\n",
      "    session_id   search_id               search_time session_starting_time  \\\n",
      "0  session_322  search_784  2020-01-21T21:35:38.910Z  2020-01-21T21:10:12Z   \n",
      "1  session_322  search_776  2020-01-21T21:37:37.697Z  2020-01-21T21:10:12Z   \n",
      "2  session_322  search_623  2020-01-21T21:36:11.392Z  2020-01-21T21:10:12Z   \n",
      "3  session_322  search_270  2020-01-21T21:16:07.685Z  2020-01-21T21:10:12Z   \n",
      "4  session_322  search_905  2020-01-21T21:34:55.673Z  2020-01-21T21:10:12Z   \n",
      "\n",
      "  booking_id  \n",
      "0        NaN  \n",
      "1        NaN  \n",
      "2        NaN  \n",
      "3        NaN  \n",
      "4        NaN  \n"
     ]
    }
   ],
   "source": [
    "print(data_session.info())\n",
    "print(data_session.head())\n"
   ]
  },
  {
   "cell_type": "code",
   "execution_count": null,
   "id": "f765adf2-34ad-43de-8941-01b5c45e708a",
   "metadata": {},
   "outputs": [],
   "source": []
  }
 ],
 "metadata": {
  "kernelspec": {
   "display_name": "Python 3 (ipykernel)",
   "language": "python",
   "name": "python3"
  },
  "language_info": {
   "codemirror_mode": {
    "name": "ipython",
    "version": 3
   },
   "file_extension": ".py",
   "mimetype": "text/x-python",
   "name": "python",
   "nbconvert_exporter": "python",
   "pygments_lexer": "ipython3",
   "version": "3.12.4"
  }
 },
 "nbformat": 4,
 "nbformat_minor": 5
}
