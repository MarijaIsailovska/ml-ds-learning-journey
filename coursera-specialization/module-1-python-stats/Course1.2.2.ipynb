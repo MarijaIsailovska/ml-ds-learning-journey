{
 "cells": [
  {
   "cell_type": "markdown",
   "id": "f4dfb9f0-05cf-4903-a937-ee26ac240bbf",
   "metadata": {},
   "source": [
    "# Panda series"
   ]
  },
  {
   "cell_type": "code",
   "execution_count": 6,
   "id": "a4307773-0da9-4a44-abbd-4d679a4dde40",
   "metadata": {},
   "outputs": [],
   "source": [
    "import pandas as pd \n",
    "import numpy as np"
   ]
  },
  {
   "cell_type": "code",
   "execution_count": 8,
   "id": "60af5f9d-286f-4d31-86df-5b9f26348681",
   "metadata": {},
   "outputs": [
    {
     "data": {
      "text/plain": [
       "0    13\n",
       "1    -5\n",
       "2     7\n",
       "3    19\n",
       "dtype: int64"
      ]
     },
     "execution_count": 8,
     "metadata": {},
     "output_type": "execute_result"
    }
   ],
   "source": [
    "x=[13,-5,7,19]\n",
    "s1=pd.Series(x)\n",
    "s1"
   ]
  },
  {
   "cell_type": "code",
   "execution_count": 10,
   "id": "e6a873e9-d810-4da9-a1fb-eb98b2fbc5f8",
   "metadata": {},
   "outputs": [
    {
     "data": {
      "text/plain": [
       "a    23.0\n",
       "b    -0.3\n",
       "c     7.0\n",
       "d    19.0\n",
       "dtype: float64"
      ]
     },
     "execution_count": 10,
     "metadata": {},
     "output_type": "execute_result"
    }
   ],
   "source": [
    "y=[23,-0.3,7,19]\n",
    "s2=pd.Series(y,index=['a','b','c','d'])\n",
    "s2"
   ]
  },
  {
   "cell_type": "markdown",
   "id": "6d9e0b82-0b1a-4cb8-a6ff-1a3fdffb2993",
   "metadata": {},
   "source": [
    "# Getting access of indexes and values of panda series"
   ]
  },
  {
   "cell_type": "code",
   "execution_count": 17,
   "id": "5206ef64-1fdd-42ae-b90f-39cba127174a",
   "metadata": {},
   "outputs": [
    {
     "name": "stdout",
     "output_type": "stream",
     "text": [
      "Values: [23.  -0.3  7.  19. ]\n",
      "Indexes: Index(['a', 'b', 'c', 'd'], dtype='object')\n"
     ]
    }
   ],
   "source": [
    "print(\"Values:\", s2.values)\n",
    "print(\"Indexes:\", s2.index)"
   ]
  },
  {
   "cell_type": "markdown",
   "id": "5ac94e30-4e72-4027-9491-9d850fc848fe",
   "metadata": {},
   "source": [
    "Assing new values to the panda series or modifying existing values"
   ]
  },
  {
   "cell_type": "code",
   "execution_count": 22,
   "id": "2960575c-6cbb-4a08-9ce9-a0ee74bbd111",
   "metadata": {},
   "outputs": [
    {
     "data": {
      "text/plain": [
       "a    23.0\n",
       "b    -0.3\n",
       "c     7.0\n",
       "d    19.0\n",
       "e    20.0\n",
       "dtype: float64"
      ]
     },
     "execution_count": 22,
     "metadata": {},
     "output_type": "execute_result"
    }
   ],
   "source": [
    "s2['e']=20\n",
    "s2"
   ]
  },
  {
   "cell_type": "code",
   "execution_count": 24,
   "id": "28d424b5-81af-4351-aa37-d5efe5786c2b",
   "metadata": {},
   "outputs": [
    {
     "data": {
      "text/plain": [
       "a     23.0\n",
       "b     -0.3\n",
       "c      7.0\n",
       "d    200.0\n",
       "e     20.0\n",
       "dtype: float64"
      ]
     },
     "execution_count": 24,
     "metadata": {},
     "output_type": "execute_result"
    }
   ],
   "source": [
    "s2['d']=200\n",
    "s2"
   ]
  },
  {
   "cell_type": "markdown",
   "id": "9308a848-751a-473c-b114-714d8bb43674",
   "metadata": {},
   "source": [
    "Create a pandas series with these elements 'Amit','Bob','Kate','A','b',np.nan ,'Car','dog','cat'"
   ]
  },
  {
   "cell_type": "code",
   "execution_count": 27,
   "id": "b18b74f4-1f9c-44cf-9d35-9327163eedd8",
   "metadata": {},
   "outputs": [
    {
     "data": {
      "text/plain": [
       "0    Amit\n",
       "1     Bob\n",
       "2    Kate\n",
       "3       A\n",
       "4       b\n",
       "5     NaN\n",
       "6     Car\n",
       "7     dog\n",
       "8     cat\n",
       "dtype: object"
      ]
     },
     "execution_count": 27,
     "metadata": {},
     "output_type": "execute_result"
    }
   ],
   "source": [
    "s3=pd.Series(['Amit','Bob','Kate','A','b',np.nan ,'Car','dog','cat'])\n",
    "s3"
   ]
  },
  {
   "cell_type": "markdown",
   "id": "08223c16-a892-4f45-89bb-ddf89937423f",
   "metadata": {},
   "source": [
    "All elements need to be lower or upper case"
   ]
  },
  {
   "cell_type": "code",
   "execution_count": 30,
   "id": "c14979f2-7f0a-428d-a5a2-6893e07d58f6",
   "metadata": {},
   "outputs": [
    {
     "name": "stdout",
     "output_type": "stream",
     "text": [
      "0    amit\n",
      "1     bob\n",
      "2    kate\n",
      "3       a\n",
      "4       b\n",
      "5     NaN\n",
      "6     car\n",
      "7     dog\n",
      "8     cat\n",
      "dtype: object\n"
     ]
    }
   ],
   "source": [
    "print(s3.str.lower())"
   ]
  },
  {
   "cell_type": "code",
   "execution_count": 32,
   "id": "383b5aa4-cab5-40f7-be04-1817096c8b16",
   "metadata": {},
   "outputs": [
    {
     "name": "stdout",
     "output_type": "stream",
     "text": [
      "0    AMIT\n",
      "1     BOB\n",
      "2    KATE\n",
      "3       A\n",
      "4       B\n",
      "5     NaN\n",
      "6     CAR\n",
      "7     DOG\n",
      "8     CAT\n",
      "dtype: object\n"
     ]
    }
   ],
   "source": [
    "print(s3.str.upper())"
   ]
  },
  {
   "cell_type": "code",
   "execution_count": 34,
   "id": "09c29fcd-787b-4e80-a4e6-f47af63fd593",
   "metadata": {},
   "outputs": [
    {
     "name": "stdout",
     "output_type": "stream",
     "text": [
      "9\n"
     ]
    }
   ],
   "source": [
    "print(len(s3))"
   ]
  },
  {
   "cell_type": "code",
   "execution_count": 36,
   "id": "f61296fe-a916-4930-835c-fa060a8d5eb1",
   "metadata": {},
   "outputs": [
    {
     "name": "stdout",
     "output_type": "stream",
     "text": [
      "0    4.0\n",
      "1    3.0\n",
      "2    4.0\n",
      "3    1.0\n",
      "4    1.0\n",
      "5    NaN\n",
      "6    3.0\n",
      "7    3.0\n",
      "8    3.0\n",
      "dtype: float64\n"
     ]
    }
   ],
   "source": [
    "print(s3.str.len())"
   ]
  },
  {
   "cell_type": "markdown",
   "id": "5a6698b5-35cf-41e9-b539-48e709ee4439",
   "metadata": {},
   "source": [
    "From raw data below create Pandas Series 'Arya',\"John\",\"Jack\",\"Sami\""
   ]
  },
  {
   "cell_type": "code",
   "execution_count": 41,
   "id": "20d75c62-5d1c-49de-b95e-210ded1d4a62",
   "metadata": {},
   "outputs": [
    {
     "data": {
      "text/plain": [
       "0    Arya\n",
       "1    John\n",
       "2    Jack\n",
       "3    Sami\n",
       "dtype: object"
      ]
     },
     "execution_count": 41,
     "metadata": {},
     "output_type": "execute_result"
    }
   ],
   "source": [
    "s4=pd.Series(['Arya',\"John\",\"Jack\",\"Sami\"])\n",
    "s4"
   ]
  },
  {
   "cell_type": "markdown",
   "id": "58a12de6-5e69-4cf9-a977-448bf59c5d7d",
   "metadata": {},
   "source": [
    "Print elements stripping spaces from left and right"
   ]
  },
  {
   "cell_type": "code",
   "execution_count": 45,
   "id": "e3a1dddc-8cfd-433a-9883-0f313256b1e9",
   "metadata": {},
   "outputs": [
    {
     "name": "stdout",
     "output_type": "stream",
     "text": [
      "0    Arya\n",
      "1    John\n",
      "2    Jack\n",
      "3    Sami\n",
      "dtype: object\n"
     ]
    }
   ],
   "source": [
    "print(s4.str.strip())"
   ]
  },
  {
   "cell_type": "code",
   "execution_count": null,
   "id": "c3765e18-13c0-41c1-b09d-21171e53c1a4",
   "metadata": {},
   "outputs": [],
   "source": []
  }
 ],
 "metadata": {
  "kernelspec": {
   "display_name": "Python 3 (ipykernel)",
   "language": "python",
   "name": "python3"
  },
  "language_info": {
   "codemirror_mode": {
    "name": "ipython",
    "version": 3
   },
   "file_extension": ".py",
   "mimetype": "text/x-python",
   "name": "python",
   "nbconvert_exporter": "python",
   "pygments_lexer": "ipython3",
   "version": "3.12.4"
  }
 },
 "nbformat": 4,
 "nbformat_minor": 5
}
